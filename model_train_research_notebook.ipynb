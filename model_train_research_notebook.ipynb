{
 "cells": [
  {
   "cell_type": "markdown",
   "source": [
    "## Обучение RNN модели на моделирование любой характеристики ситстемы"
   ],
   "metadata": {
    "collapsed": false,
    "pycharm": {
     "name": "#%% md\n"
    }
   },
   "outputs": [],
   "execution_count": 1
  },
  {
   "cell_type": "markdown",
   "source": [
    "##### в финальной версии моделируются одновременно все параметры системы, высоко кореллирующие с целевой переменной\n",
    "##### команда: /talkiiing"
   ],
   "metadata": {
    "collapsed": false,
    "pycharm": {
     "name": "#%% md\n"
    }
   }
  },
  {
   "cell_type": "code",
   "execution_count": null,
   "outputs": [],
   "source": [],
   "metadata": {
    "collapsed": false,
    "pycharm": {
     "name": "#%%\n"
    }
   }
  },
  {
   "cell_type": "code",
   "execution_count": 1,
   "metadata": {
    "collapsed": true
   },
   "outputs": [],
   "source": [
    "%load_ext autoreload\n",
    "%autoreload 2\n",
    "import torch\n",
    "import torch.nn as nn\n",
    "from torch.utils.data import Dataset, DataLoader\n",
    "\n",
    "import numpy as np\n",
    "import matplotlib.pyplot as plt\n",
    "\n",
    "from tqdm.auto import tqdm\n",
    "from nltk.tokenize import word_tokenize\n",
    "from sklearn.model_selection import train_test_split\n",
    "import nltk\n",
    "\n",
    "from collections import Counter\n",
    "from typing import List\n",
    "import string\n",
    "\n",
    "import seaborn\n",
    "seaborn.set(palette='summer')"
   ]
  },
  {
   "cell_type": "code",
   "execution_count": 2,
   "outputs": [
    {
     "data": {
      "text/plain": "'cuda'"
     },
     "execution_count": 2,
     "metadata": {},
     "output_type": "execute_result"
    }
   ],
   "source": [
    "device = 'cuda' if torch.cuda.is_available() else 'cpu'\n",
    "device"
   ],
   "metadata": {
    "collapsed": false,
    "pycharm": {
     "name": "#%%\n"
    }
   }
  },
  {
   "cell_type": "code",
   "execution_count": 3,
   "outputs": [],
   "source": [
    "import pandas as pd\n",
    "train_df = pd.read_csv(\"train_df.csv\")"
   ],
   "metadata": {
    "collapsed": false,
    "pycharm": {
     "name": "#%%\n"
    }
   }
  },
  {
   "cell_type": "code",
   "execution_count": 4,
   "outputs": [
    {
     "data": {
      "text/plain": "'cuda'"
     },
     "execution_count": 4,
     "metadata": {},
     "output_type": "execute_result"
    }
   ],
   "source": [
    "device = 'cuda' if torch.cuda.is_available() else 'cpu'\n",
    "device"
   ],
   "metadata": {
    "collapsed": false,
    "pycharm": {
     "name": "#%%\n"
    }
   }
  },
  {
   "cell_type": "code",
   "execution_count": 5,
   "outputs": [
    {
     "data": {
      "text/plain": "    len  day  month  hour  minute  count_city_x0_Алматы  \\\n0    16    1      7     0     0.0                   0.0   \n1    29    1      7     0     1.0                   0.0   \n2    16    1      7     0     2.0                   0.0   \n3    21    1      7     0     3.0                   0.0   \n4    18    1      7     0     4.0                   0.0   \n5    19    1      7     0     5.0                   0.0   \n6    22    1      7     0     6.0                   0.0   \n7    18    1      7     0     7.0                   0.0   \n8    15    1      7     0     8.0                   0.0   \n9    15    1      7     0     9.0                   0.0   \n10   16    1      7     0    10.0                   0.0   \n11   21    1      7     0    11.0                   0.0   \n12   27    1      7     0    12.0                   0.0   \n13   27    1      7     0    13.0                   0.0   \n14   34    1      7     0    14.0                   0.0   \n15   29    1      7     0    15.0                   0.0   \n16   22    1      7     0    16.0                   0.0   \n17   26    1      7     0    17.0                   0.0   \n18   21    1      7     0    18.0                   0.0   \n19   25    1      7     0    19.0                   0.0   \n\n    count_city_x0_Анталья  count_city_x0_Варадеро  count_city_x0_Владивосток  \\\n0                     2.0                     0.0                        4.0   \n1                     4.0                     0.0                        8.0   \n2                     3.0                     0.0                        0.0   \n3                     5.0                     0.0                        0.0   \n4                     5.0                     0.0                        2.0   \n5                     2.0                     0.0                        8.0   \n6                     2.0                     0.0                        6.0   \n7                     3.0                     0.0                        4.0   \n8                     2.0                     0.0                        2.0   \n9                     8.0                     0.0                        0.0   \n10                    6.0                     0.0                        0.0   \n11                    2.0                     0.0                        6.0   \n12                    2.0                     0.0                        4.0   \n13                    3.0                     0.0                        8.0   \n14                    4.0                     4.0                        4.0   \n15                    2.0                     0.0                        2.0   \n16                    7.0                     0.0                        2.0   \n17                    3.0                     0.0                        0.0   \n18                    3.0                     0.0                        4.0   \n19                    3.0                     0.0                        2.0   \n\n    count_city_x0_Волгоград  ...  check_terminal_percentile_75  \\\n0                       0.0  ...                          0.00   \n1                       0.0  ...                          1.00   \n2                       0.0  ...                          1.00   \n3                       0.0  ...                          1.00   \n4                       0.0  ...                          1.00   \n5                       1.0  ...                          0.50   \n6                       0.0  ...                          0.75   \n7                       1.0  ...                          1.00   \n8                       3.0  ...                          1.00   \n9                       1.0  ...                          1.00   \n10                      3.0  ...                          1.00   \n11                      2.0  ...                          0.00   \n12                      3.0  ...                          0.50   \n13                      5.0  ...                          0.50   \n14                      6.0  ...                          1.00   \n15                      3.0  ...                          0.00   \n16                      3.0  ...                          1.00   \n17                      3.0  ...                          1.00   \n18                      2.0  ...                          1.00   \n19                      0.0  ...                          1.00   \n\n    sum_arrive_to_event  std_arrive_to_event  mean_arrive_to_event  \\\n0            158785.537          7205.349019           9924.096062   \n1            410100.456         15262.568520          14141.395034   \n2            211245.303         12980.451377          13202.831437   \n3            212390.117         10541.459757          10113.815095   \n4            240504.436         15743.664759          13361.357555   \n5            157037.257          7562.723722           8265.118789   \n6            291703.427         13656.034993          13259.246681   \n7            143429.982          5877.090058           7968.332333   \n8            211206.037         11179.484720          14080.402466   \n9            142242.599          7327.079112           9482.839933   \n10           218559.493         12962.425448          13659.968312   \n11           304622.243         14893.303275          14505.821095   \n12           344058.815         14231.564962          12742.919074   \n13           471716.290         17872.585095          17470.973703   \n14           596718.788         15616.473704          17550.552588   \n15           503635.026         17663.114273          17366.725034   \n16           328926.445         16955.526570          14951.202045   \n17           426785.766         16696.891194          16414.837153   \n18           409243.459         17083.756115          19487.783761   \n19           447464.028         22740.034178          17898.561120   \n\n    tst_percentile_25  tst_percentile_75  tst_day  tst_month  tst_hour  \\\n0          5683.98400         8962.30450        1          7         0   \n1          5596.82300         9796.65000        1          7         0   \n2          5479.58800        13958.37675        1          7         0   \n3          5501.18000         8771.49000        1          7         0   \n4          5152.21200         8123.99775        1          7         0   \n5          5366.71000         8385.41500        1          7         0   \n6          5324.75500         9298.56200        1          7         0   \n7          5265.38575         8404.67825        1          7         0   \n8          6240.23000        26652.53350        1          7         0   \n9          6172.65000         9315.63000        1          7         0   \n10         5596.89600        14604.53100        1          7         0   \n11         4990.43300        29315.15000        1          7         0   \n12         4644.17150         8241.11800        1          7         0   \n13         4865.90800        30390.70350        1          7         0   \n14         4852.47175        30316.18200        1          7         0   \n15         4764.92700        30278.53000        1          7         0   \n16         4700.82975        21964.97275        1          7         0   \n17         4435.06925        29164.71150        1          7         0   \n18         6675.97300        29205.58300        1          7         0   \n19         4201.13300        27925.74000        1          7         0   \n\n    tst_minute  \n0          0.0  \n1          1.0  \n2          2.0  \n3          3.0  \n4          4.0  \n5          5.0  \n6          6.0  \n7          7.0  \n8          8.0  \n9          9.0  \n10        10.0  \n11        11.0  \n12        12.0  \n13        13.0  \n14        14.0  \n15        15.0  \n16        16.0  \n17        17.0  \n18        18.0  \n19        19.0  \n\n[20 rows x 67 columns]",
      "text/html": "<div>\n<style scoped>\n    .dataframe tbody tr th:only-of-type {\n        vertical-align: middle;\n    }\n\n    .dataframe tbody tr th {\n        vertical-align: top;\n    }\n\n    .dataframe thead th {\n        text-align: right;\n    }\n</style>\n<table border=\"1\" class=\"dataframe\">\n  <thead>\n    <tr style=\"text-align: right;\">\n      <th></th>\n      <th>len</th>\n      <th>day</th>\n      <th>month</th>\n      <th>hour</th>\n      <th>minute</th>\n      <th>count_city_x0_Алматы</th>\n      <th>count_city_x0_Анталья</th>\n      <th>count_city_x0_Варадеро</th>\n      <th>count_city_x0_Владивосток</th>\n      <th>count_city_x0_Волгоград</th>\n      <th>...</th>\n      <th>check_terminal_percentile_75</th>\n      <th>sum_arrive_to_event</th>\n      <th>std_arrive_to_event</th>\n      <th>mean_arrive_to_event</th>\n      <th>tst_percentile_25</th>\n      <th>tst_percentile_75</th>\n      <th>tst_day</th>\n      <th>tst_month</th>\n      <th>tst_hour</th>\n      <th>tst_minute</th>\n    </tr>\n  </thead>\n  <tbody>\n    <tr>\n      <th>0</th>\n      <td>16</td>\n      <td>1</td>\n      <td>7</td>\n      <td>0</td>\n      <td>0.0</td>\n      <td>0.0</td>\n      <td>2.0</td>\n      <td>0.0</td>\n      <td>4.0</td>\n      <td>0.0</td>\n      <td>...</td>\n      <td>0.00</td>\n      <td>158785.537</td>\n      <td>7205.349019</td>\n      <td>9924.096062</td>\n      <td>5683.98400</td>\n      <td>8962.30450</td>\n      <td>1</td>\n      <td>7</td>\n      <td>0</td>\n      <td>0.0</td>\n    </tr>\n    <tr>\n      <th>1</th>\n      <td>29</td>\n      <td>1</td>\n      <td>7</td>\n      <td>0</td>\n      <td>1.0</td>\n      <td>0.0</td>\n      <td>4.0</td>\n      <td>0.0</td>\n      <td>8.0</td>\n      <td>0.0</td>\n      <td>...</td>\n      <td>1.00</td>\n      <td>410100.456</td>\n      <td>15262.568520</td>\n      <td>14141.395034</td>\n      <td>5596.82300</td>\n      <td>9796.65000</td>\n      <td>1</td>\n      <td>7</td>\n      <td>0</td>\n      <td>1.0</td>\n    </tr>\n    <tr>\n      <th>2</th>\n      <td>16</td>\n      <td>1</td>\n      <td>7</td>\n      <td>0</td>\n      <td>2.0</td>\n      <td>0.0</td>\n      <td>3.0</td>\n      <td>0.0</td>\n      <td>0.0</td>\n      <td>0.0</td>\n      <td>...</td>\n      <td>1.00</td>\n      <td>211245.303</td>\n      <td>12980.451377</td>\n      <td>13202.831437</td>\n      <td>5479.58800</td>\n      <td>13958.37675</td>\n      <td>1</td>\n      <td>7</td>\n      <td>0</td>\n      <td>2.0</td>\n    </tr>\n    <tr>\n      <th>3</th>\n      <td>21</td>\n      <td>1</td>\n      <td>7</td>\n      <td>0</td>\n      <td>3.0</td>\n      <td>0.0</td>\n      <td>5.0</td>\n      <td>0.0</td>\n      <td>0.0</td>\n      <td>0.0</td>\n      <td>...</td>\n      <td>1.00</td>\n      <td>212390.117</td>\n      <td>10541.459757</td>\n      <td>10113.815095</td>\n      <td>5501.18000</td>\n      <td>8771.49000</td>\n      <td>1</td>\n      <td>7</td>\n      <td>0</td>\n      <td>3.0</td>\n    </tr>\n    <tr>\n      <th>4</th>\n      <td>18</td>\n      <td>1</td>\n      <td>7</td>\n      <td>0</td>\n      <td>4.0</td>\n      <td>0.0</td>\n      <td>5.0</td>\n      <td>0.0</td>\n      <td>2.0</td>\n      <td>0.0</td>\n      <td>...</td>\n      <td>1.00</td>\n      <td>240504.436</td>\n      <td>15743.664759</td>\n      <td>13361.357555</td>\n      <td>5152.21200</td>\n      <td>8123.99775</td>\n      <td>1</td>\n      <td>7</td>\n      <td>0</td>\n      <td>4.0</td>\n    </tr>\n    <tr>\n      <th>5</th>\n      <td>19</td>\n      <td>1</td>\n      <td>7</td>\n      <td>0</td>\n      <td>5.0</td>\n      <td>0.0</td>\n      <td>2.0</td>\n      <td>0.0</td>\n      <td>8.0</td>\n      <td>1.0</td>\n      <td>...</td>\n      <td>0.50</td>\n      <td>157037.257</td>\n      <td>7562.723722</td>\n      <td>8265.118789</td>\n      <td>5366.71000</td>\n      <td>8385.41500</td>\n      <td>1</td>\n      <td>7</td>\n      <td>0</td>\n      <td>5.0</td>\n    </tr>\n    <tr>\n      <th>6</th>\n      <td>22</td>\n      <td>1</td>\n      <td>7</td>\n      <td>0</td>\n      <td>6.0</td>\n      <td>0.0</td>\n      <td>2.0</td>\n      <td>0.0</td>\n      <td>6.0</td>\n      <td>0.0</td>\n      <td>...</td>\n      <td>0.75</td>\n      <td>291703.427</td>\n      <td>13656.034993</td>\n      <td>13259.246681</td>\n      <td>5324.75500</td>\n      <td>9298.56200</td>\n      <td>1</td>\n      <td>7</td>\n      <td>0</td>\n      <td>6.0</td>\n    </tr>\n    <tr>\n      <th>7</th>\n      <td>18</td>\n      <td>1</td>\n      <td>7</td>\n      <td>0</td>\n      <td>7.0</td>\n      <td>0.0</td>\n      <td>3.0</td>\n      <td>0.0</td>\n      <td>4.0</td>\n      <td>1.0</td>\n      <td>...</td>\n      <td>1.00</td>\n      <td>143429.982</td>\n      <td>5877.090058</td>\n      <td>7968.332333</td>\n      <td>5265.38575</td>\n      <td>8404.67825</td>\n      <td>1</td>\n      <td>7</td>\n      <td>0</td>\n      <td>7.0</td>\n    </tr>\n    <tr>\n      <th>8</th>\n      <td>15</td>\n      <td>1</td>\n      <td>7</td>\n      <td>0</td>\n      <td>8.0</td>\n      <td>0.0</td>\n      <td>2.0</td>\n      <td>0.0</td>\n      <td>2.0</td>\n      <td>3.0</td>\n      <td>...</td>\n      <td>1.00</td>\n      <td>211206.037</td>\n      <td>11179.484720</td>\n      <td>14080.402466</td>\n      <td>6240.23000</td>\n      <td>26652.53350</td>\n      <td>1</td>\n      <td>7</td>\n      <td>0</td>\n      <td>8.0</td>\n    </tr>\n    <tr>\n      <th>9</th>\n      <td>15</td>\n      <td>1</td>\n      <td>7</td>\n      <td>0</td>\n      <td>9.0</td>\n      <td>0.0</td>\n      <td>8.0</td>\n      <td>0.0</td>\n      <td>0.0</td>\n      <td>1.0</td>\n      <td>...</td>\n      <td>1.00</td>\n      <td>142242.599</td>\n      <td>7327.079112</td>\n      <td>9482.839933</td>\n      <td>6172.65000</td>\n      <td>9315.63000</td>\n      <td>1</td>\n      <td>7</td>\n      <td>0</td>\n      <td>9.0</td>\n    </tr>\n    <tr>\n      <th>10</th>\n      <td>16</td>\n      <td>1</td>\n      <td>7</td>\n      <td>0</td>\n      <td>10.0</td>\n      <td>0.0</td>\n      <td>6.0</td>\n      <td>0.0</td>\n      <td>0.0</td>\n      <td>3.0</td>\n      <td>...</td>\n      <td>1.00</td>\n      <td>218559.493</td>\n      <td>12962.425448</td>\n      <td>13659.968312</td>\n      <td>5596.89600</td>\n      <td>14604.53100</td>\n      <td>1</td>\n      <td>7</td>\n      <td>0</td>\n      <td>10.0</td>\n    </tr>\n    <tr>\n      <th>11</th>\n      <td>21</td>\n      <td>1</td>\n      <td>7</td>\n      <td>0</td>\n      <td>11.0</td>\n      <td>0.0</td>\n      <td>2.0</td>\n      <td>0.0</td>\n      <td>6.0</td>\n      <td>2.0</td>\n      <td>...</td>\n      <td>0.00</td>\n      <td>304622.243</td>\n      <td>14893.303275</td>\n      <td>14505.821095</td>\n      <td>4990.43300</td>\n      <td>29315.15000</td>\n      <td>1</td>\n      <td>7</td>\n      <td>0</td>\n      <td>11.0</td>\n    </tr>\n    <tr>\n      <th>12</th>\n      <td>27</td>\n      <td>1</td>\n      <td>7</td>\n      <td>0</td>\n      <td>12.0</td>\n      <td>0.0</td>\n      <td>2.0</td>\n      <td>0.0</td>\n      <td>4.0</td>\n      <td>3.0</td>\n      <td>...</td>\n      <td>0.50</td>\n      <td>344058.815</td>\n      <td>14231.564962</td>\n      <td>12742.919074</td>\n      <td>4644.17150</td>\n      <td>8241.11800</td>\n      <td>1</td>\n      <td>7</td>\n      <td>0</td>\n      <td>12.0</td>\n    </tr>\n    <tr>\n      <th>13</th>\n      <td>27</td>\n      <td>1</td>\n      <td>7</td>\n      <td>0</td>\n      <td>13.0</td>\n      <td>0.0</td>\n      <td>3.0</td>\n      <td>0.0</td>\n      <td>8.0</td>\n      <td>5.0</td>\n      <td>...</td>\n      <td>0.50</td>\n      <td>471716.290</td>\n      <td>17872.585095</td>\n      <td>17470.973703</td>\n      <td>4865.90800</td>\n      <td>30390.70350</td>\n      <td>1</td>\n      <td>7</td>\n      <td>0</td>\n      <td>13.0</td>\n    </tr>\n    <tr>\n      <th>14</th>\n      <td>34</td>\n      <td>1</td>\n      <td>7</td>\n      <td>0</td>\n      <td>14.0</td>\n      <td>0.0</td>\n      <td>4.0</td>\n      <td>4.0</td>\n      <td>4.0</td>\n      <td>6.0</td>\n      <td>...</td>\n      <td>1.00</td>\n      <td>596718.788</td>\n      <td>15616.473704</td>\n      <td>17550.552588</td>\n      <td>4852.47175</td>\n      <td>30316.18200</td>\n      <td>1</td>\n      <td>7</td>\n      <td>0</td>\n      <td>14.0</td>\n    </tr>\n    <tr>\n      <th>15</th>\n      <td>29</td>\n      <td>1</td>\n      <td>7</td>\n      <td>0</td>\n      <td>15.0</td>\n      <td>0.0</td>\n      <td>2.0</td>\n      <td>0.0</td>\n      <td>2.0</td>\n      <td>3.0</td>\n      <td>...</td>\n      <td>0.00</td>\n      <td>503635.026</td>\n      <td>17663.114273</td>\n      <td>17366.725034</td>\n      <td>4764.92700</td>\n      <td>30278.53000</td>\n      <td>1</td>\n      <td>7</td>\n      <td>0</td>\n      <td>15.0</td>\n    </tr>\n    <tr>\n      <th>16</th>\n      <td>22</td>\n      <td>1</td>\n      <td>7</td>\n      <td>0</td>\n      <td>16.0</td>\n      <td>0.0</td>\n      <td>7.0</td>\n      <td>0.0</td>\n      <td>2.0</td>\n      <td>3.0</td>\n      <td>...</td>\n      <td>1.00</td>\n      <td>328926.445</td>\n      <td>16955.526570</td>\n      <td>14951.202045</td>\n      <td>4700.82975</td>\n      <td>21964.97275</td>\n      <td>1</td>\n      <td>7</td>\n      <td>0</td>\n      <td>16.0</td>\n    </tr>\n    <tr>\n      <th>17</th>\n      <td>26</td>\n      <td>1</td>\n      <td>7</td>\n      <td>0</td>\n      <td>17.0</td>\n      <td>0.0</td>\n      <td>3.0</td>\n      <td>0.0</td>\n      <td>0.0</td>\n      <td>3.0</td>\n      <td>...</td>\n      <td>1.00</td>\n      <td>426785.766</td>\n      <td>16696.891194</td>\n      <td>16414.837153</td>\n      <td>4435.06925</td>\n      <td>29164.71150</td>\n      <td>1</td>\n      <td>7</td>\n      <td>0</td>\n      <td>17.0</td>\n    </tr>\n    <tr>\n      <th>18</th>\n      <td>21</td>\n      <td>1</td>\n      <td>7</td>\n      <td>0</td>\n      <td>18.0</td>\n      <td>0.0</td>\n      <td>3.0</td>\n      <td>0.0</td>\n      <td>4.0</td>\n      <td>2.0</td>\n      <td>...</td>\n      <td>1.00</td>\n      <td>409243.459</td>\n      <td>17083.756115</td>\n      <td>19487.783761</td>\n      <td>6675.97300</td>\n      <td>29205.58300</td>\n      <td>1</td>\n      <td>7</td>\n      <td>0</td>\n      <td>18.0</td>\n    </tr>\n    <tr>\n      <th>19</th>\n      <td>25</td>\n      <td>1</td>\n      <td>7</td>\n      <td>0</td>\n      <td>19.0</td>\n      <td>0.0</td>\n      <td>3.0</td>\n      <td>0.0</td>\n      <td>2.0</td>\n      <td>0.0</td>\n      <td>...</td>\n      <td>1.00</td>\n      <td>447464.028</td>\n      <td>22740.034178</td>\n      <td>17898.561120</td>\n      <td>4201.13300</td>\n      <td>27925.74000</td>\n      <td>1</td>\n      <td>7</td>\n      <td>0</td>\n      <td>19.0</td>\n    </tr>\n  </tbody>\n</table>\n<p>20 rows × 67 columns</p>\n</div>"
     },
     "execution_count": 5,
     "metadata": {},
     "output_type": "execute_result"
    }
   ],
   "source": [
    "train_df.head(20)"
   ],
   "metadata": {
    "collapsed": false,
    "pycharm": {
     "name": "#%%\n"
    }
   }
  },
  {
   "cell_type": "code",
   "execution_count": 6,
   "outputs": [],
   "source": [
    "columns_to_use = [\"len\", \"day\", \"hour\", \"minute\"] + list(train_df.columns[-40:])"
   ],
   "metadata": {
    "collapsed": false,
    "pycharm": {
     "name": "#%%\n"
    }
   }
  },
  {
   "cell_type": "code",
   "execution_count": 9,
   "outputs": [],
   "source": [
    "xs = []\n",
    "ys = []\n",
    "count_last_samples = 100\n",
    "for i in range(0, len(train_df) - count_last_samples, count_last_samples//6):\n",
    "    x = train_df.iloc[i:i+count_last_samples]\n",
    "    y = train_df.iloc[i+count_last_samples].len\n",
    "\n",
    "    xs.append(x[columns_to_use])\n",
    "    ys.append(y)"
   ],
   "metadata": {
    "collapsed": false,
    "pycharm": {
     "name": "#%%\n"
    }
   }
  },
  {
   "cell_type": "code",
   "execution_count": 9,
   "outputs": [],
   "source": [],
   "metadata": {
    "collapsed": false,
    "pycharm": {
     "name": "#%%\n"
    }
   }
  },
  {
   "cell_type": "code",
   "execution_count": 10,
   "outputs": [],
   "source": [
    "x_train, x_valid, y_train, y_valid = train_test_split(xs, ys, test_size=0.2)"
   ],
   "metadata": {
    "collapsed": false,
    "pycharm": {
     "name": "#%%\n"
    }
   }
  },
  {
   "cell_type": "code",
   "execution_count": 119,
   "outputs": [],
   "source": [
    "import random\n",
    "\n",
    "class SequenceDataset:\n",
    "    def __init__(self, sequences, labels):\n",
    "        # self.sequences = [i[0].transpose(1, 0) for i in dataset]\n",
    "        self.sequences = sequences\n",
    "        self.labels = labels\n",
    "\n",
    "    def __getitem__(self, idx: int) -> List[int]:\n",
    "        sequence = self.sequences[idx].fillna(0).values\n",
    "        label = self.labels[idx]\n",
    "\n",
    "        train_sample = {\n",
    "            \"text\": sequence,\n",
    "            \"label\": label\n",
    "        }\n",
    "\n",
    "        return train_sample\n",
    "\n",
    "    def __len__(self) -> int:\n",
    "        return len(self.sequences)"
   ],
   "metadata": {
    "collapsed": false,
    "pycharm": {
     "name": "#%%\n"
    }
   }
  },
  {
   "cell_type": "code",
   "execution_count": 120,
   "outputs": [],
   "source": [
    "def collate_fn_with_padding(input_batch: List[List[int]], max_len = 600, pad_value=[0]) -> torch.Tensor:\n",
    "    seq_lens = [len(x['text']) for x in input_batch]\n",
    "    max_seq_len = min(max(seq_lens), max_len)\n",
    "\n",
    "    new_batch = []\n",
    "    for sequence in input_batch:\n",
    "        sequence['text'] = sequence['text'][-max_seq_len:]\n",
    "        for _ in range(max_seq_len - len(sequence['text'])):\n",
    "            sequence['text'].append(pad_value)\n",
    "        new_batch.append(sequence['text'])\n",
    "\n",
    "    sequences = torch.FloatTensor(new_batch).to(device)\n",
    "    labels = torch.FloatTensor([x['label'] for x in input_batch]).to(device)\n",
    "\n",
    "    new_batch = {\n",
    "        'input_ids': sequences,\n",
    "        'label': labels\n",
    "    }\n",
    "\n",
    "    return new_batch"
   ],
   "metadata": {
    "collapsed": false,
    "pycharm": {
     "name": "#%%\n"
    }
   }
  },
  {
   "cell_type": "code",
   "execution_count": 121,
   "outputs": [
    {
     "data": {
      "text/plain": "709"
     },
     "execution_count": 121,
     "metadata": {},
     "output_type": "execute_result"
    }
   ],
   "source": [
    "len(x_train)"
   ],
   "metadata": {
    "collapsed": false,
    "pycharm": {
     "name": "#%%\n"
    }
   }
  },
  {
   "cell_type": "code",
   "execution_count": 121,
   "outputs": [],
   "source": [],
   "metadata": {
    "collapsed": false,
    "pycharm": {
     "name": "#%%\n"
    }
   }
  },
  {
   "cell_type": "code",
   "execution_count": 121,
   "outputs": [],
   "source": [],
   "metadata": {
    "collapsed": false,
    "pycharm": {
     "name": "#%%\n"
    }
   }
  },
  {
   "cell_type": "code",
   "execution_count": 121,
   "outputs": [],
   "source": [],
   "metadata": {
    "collapsed": false,
    "pycharm": {
     "name": "#%%\n"
    }
   }
  },
  {
   "cell_type": "code",
   "execution_count": 122,
   "outputs": [],
   "source": [
    "train_dataset = SequenceDataset(x_train, y_train)\n",
    "\n",
    "np.random.seed(42)\n",
    "eval_dataset = SequenceDataset(x_valid, y_valid)\n",
    "\n",
    "batch_size = 64\n",
    "train_dataloader = DataLoader(\n",
    "    train_dataset, shuffle=True, collate_fn=collate_fn_with_padding, batch_size=batch_size)\n",
    "\n",
    "eval_dataloader = DataLoader(\n",
    "    eval_dataset, shuffle=False, collate_fn=collate_fn_with_padding, batch_size=batch_size)"
   ],
   "metadata": {
    "collapsed": false,
    "pycharm": {
     "name": "#%%\n"
    }
   }
  },
  {
   "cell_type": "code",
   "execution_count": 123,
   "outputs": [
    {
     "data": {
      "text/plain": "torch.Size([64, 600, 44])"
     },
     "execution_count": 123,
     "metadata": {},
     "output_type": "execute_result"
    }
   ],
   "source": [
    "next(iter(train_dataloader))[\"input_ids\"].shape\n",
    "# next(iter(train_dataloader))[\"label\"]"
   ],
   "metadata": {
    "collapsed": false,
    "pycharm": {
     "name": "#%%\n"
    }
   }
  },
  {
   "cell_type": "code",
   "execution_count": 123,
   "outputs": [],
   "source": [],
   "metadata": {
    "collapsed": false,
    "pycharm": {
     "name": "#%%\n"
    }
   }
  },
  {
   "cell_type": "markdown",
   "source": [
    "## Архитектура модели"
   ],
   "metadata": {
    "collapsed": false,
    "pycharm": {
     "name": "#%% md\n"
    }
   }
  },
  {
   "cell_type": "code",
   "execution_count": 124,
   "outputs": [],
   "source": [
    "class LSTMClassifier(nn.Module):\n",
    "    \"\"\"Very simple implementation of LSTM-based time-series classifier.\"\"\"\n",
    "\n",
    "    def __init__(self, input_dim, hidden_dim, layer_dim, output_dim):\n",
    "        super().__init__()\n",
    "        self.hidden_dim = hidden_dim\n",
    "        self.layer_dim = layer_dim\n",
    "        self.rnn = nn.LSTM(input_dim, hidden_dim, layer_dim, batch_first=True)\n",
    "        self.fc = nn.Linear(hidden_dim, output_dim)\n",
    "        self.batch_size = None\n",
    "        self.hidden = None\n",
    "\n",
    "    def forward(self, x):\n",
    "        h0, c0 = self.init_hidden(x)\n",
    "        out, (hn, cn) = self.rnn(x, (h0, c0))\n",
    "        out = self.fc(out[:, -1, :])\n",
    "        return out\n",
    "\n",
    "    def init_hidden(self, x):\n",
    "        h0 = torch.zeros(self.layer_dim, x.size(0), self.hidden_dim)\n",
    "        c0 = torch.zeros(self.layer_dim, x.size(0), self.hidden_dim)\n",
    "        return [t.to(device) for t in (h0, c0)]"
   ],
   "metadata": {
    "collapsed": false,
    "pycharm": {
     "name": "#%%\n"
    }
   }
  },
  {
   "cell_type": "code",
   "execution_count": 124,
   "outputs": [],
   "source": [],
   "metadata": {
    "collapsed": false,
    "pycharm": {
     "name": "#%%\n"
    }
   }
  },
  {
   "cell_type": "code",
   "execution_count": 124,
   "outputs": [],
   "source": [],
   "metadata": {
    "collapsed": false,
    "pycharm": {
     "name": "#%%\n"
    }
   }
  },
  {
   "cell_type": "code",
   "execution_count": 125,
   "outputs": [],
   "source": [
    "from sklearn.metrics import mean_absolute_percentage_error, mean_absolute_error\n",
    "\n",
    "def evaluate(model, dataloader):\n",
    "    \"\"\"\n",
    "    Calculate accuracy on validation dataloader.\n",
    "    \"\"\"\n",
    "\n",
    "    predictions = []\n",
    "    target = []\n",
    "    with torch.no_grad():\n",
    "        for batch in dataloader:\n",
    "            logits = model(batch['input_ids'])\n",
    "            predictions.append(logits)\n",
    "            target.append(batch['label'])\n",
    "\n",
    "    predictions = torch.cat(predictions).cpu().detach().numpy()\n",
    "    target = torch.cat(target).cpu()\n",
    "\n",
    "    mape = mean_absolute_percentage_error(target, predictions)\n",
    "    mae = mean_absolute_error(target, predictions)\n",
    "\n",
    "    return mape, mae"
   ],
   "metadata": {
    "collapsed": false,
    "pycharm": {
     "name": "#%%\n"
    }
   }
  },
  {
   "cell_type": "code",
   "execution_count": 126,
   "outputs": [],
   "source": [
    "from statistics import mean\n",
    "num_epoch = 3\n",
    "eval_steps = len(train_dataloader) // 2\n",
    "\n",
    "losses = []\n",
    "\n",
    "hist_train_accs = []\n",
    "hist_eval_accs = []\n",
    "\n",
    "hist_train_f1 = []\n",
    "hist_eval_f1 = []\n",
    "\n",
    "mean_value_answer = []\n",
    "\n",
    "model = LSTMClassifier(input_dim=24, hidden_dim=64, layer_dim=3, output_dim=1).to(device)\n",
    "\n",
    "criterion = nn.MSELoss()\n",
    "optimizer = torch.optim.Adam(model.parameters(), lr=1e-3)"
   ],
   "metadata": {
    "collapsed": false,
    "pycharm": {
     "name": "#%%\n"
    }
   }
  },
  {
   "cell_type": "code",
   "execution_count": 127,
   "outputs": [
    {
     "data": {
      "text/plain": "LSTMClassifier(\n  (rnn): LSTM(24, 64, num_layers=3, batch_first=True)\n  (fc): Linear(in_features=64, out_features=1, bias=True)\n)"
     },
     "execution_count": 127,
     "metadata": {},
     "output_type": "execute_result"
    }
   ],
   "source": [
    "model"
   ],
   "metadata": {
    "collapsed": false,
    "pycharm": {
     "name": "#%%\n"
    }
   }
  },
  {
   "cell_type": "code",
   "execution_count": 128,
   "outputs": [
    {
     "data": {
      "text/plain": "600"
     },
     "execution_count": 128,
     "metadata": {},
     "output_type": "execute_result"
    }
   ],
   "source": [
    "count_last_samples"
   ],
   "metadata": {
    "collapsed": false,
    "pycharm": {
     "name": "#%%\n"
    }
   }
  },
  {
   "cell_type": "code",
   "execution_count": 129,
   "outputs": [
    {
     "data": {
      "text/plain": "torch.Size([64, 600, 44])"
     },
     "execution_count": 129,
     "metadata": {},
     "output_type": "execute_result"
    }
   ],
   "source": [
    "next(iter(train_dataloader))[\"input_ids\"].shape"
   ],
   "metadata": {
    "collapsed": false,
    "pycharm": {
     "name": "#%%\n"
    }
   }
  },
  {
   "cell_type": "markdown",
   "source": [
    "## Обучение модели"
   ],
   "metadata": {
    "collapsed": false,
    "pycharm": {
     "name": "#%% md\n"
    }
   }
  },
  {
   "cell_type": "code",
   "execution_count": null,
   "outputs": [],
   "source": [
    "\n",
    "for epoch in range(num_epoch):\n",
    "    epoch_losses = []\n",
    "    model.train()\n",
    "    for i, batch in enumerate(tqdm(train_dataloader, desc=f'Training epoch {epoch}:')):\n",
    "        optimizer.zero_grad()\n",
    "        logits = model(batch['input_ids']).squeeze(dim=1)\n",
    "        loss = criterion(logits, batch['label'])\n",
    "        loss.backward()\n",
    "        optimizer.step()\n",
    "\n",
    "        epoch_losses.append(loss.item())\n",
    "\n",
    "    model.eval()\n",
    "    train_acc, train_f1 = evaluate(model, train_dataloader)\n",
    "    test_acc, test_f1 = evaluate(model, eval_dataloader)\n",
    "    model.train()\n",
    "\n",
    "    hist_eval_f1.append(test_f1)\n",
    "    hist_train_f1.append(train_f1)\n",
    "\n",
    "    hist_eval_accs.append(test_acc)\n",
    "    hist_train_accs.append(train_acc)\n",
    "\n",
    "    print(f\"cur mae: {test_f1};    cur mape: {test_acc}\")\n",
    "\n",
    "    losses.append(sum(epoch_losses) / len(epoch_losses))"
   ],
   "metadata": {
    "collapsed": false,
    "pycharm": {
     "name": "#%%\n"
    }
   }
  },
  {
   "cell_type": "code",
   "execution_count": 130,
   "outputs": [],
   "source": [],
   "metadata": {
    "collapsed": false,
    "pycharm": {
     "name": "#%%\n"
    }
   }
  },
  {
   "cell_type": "code",
   "execution_count": 131,
   "outputs": [],
   "source": [
    "sample, y = x_train[0], y_train[0]"
   ],
   "metadata": {
    "collapsed": false,
    "pycharm": {
     "name": "#%%\n"
    }
   }
  },
  {
   "cell_type": "code",
   "execution_count": 132,
   "outputs": [
    {
     "data": {
      "text/plain": "       len  day  hour  minute  count_city_x0_Сочи  count_city_x0_Стамбул  \\\n73000   34   20    17    39.0                 2.0                    0.0   \n73001   40   20    17    40.0                 4.0                    0.0   \n73002   32   20    17    41.0                 0.0                    0.0   \n73003   35   20    17    42.0                 2.0                    0.0   \n73004   36   20    17    43.0                 2.0                    0.0   \n...    ...  ...   ...     ...                 ...                    ...   \n73595   16   21     3    34.0                 2.0                    0.0   \n73596   16   21     3    35.0                 1.0                    0.0   \n73597   16   21     3    36.0                 3.0                    0.0   \n73598   14   21     3    37.0                 2.0                    0.0   \n73599   14   21     3    38.0                 0.0                    1.0   \n\n       count_city_x0_Уфа  count_city_x0_Хабаровск  count_city_x0_Челябинск  \\\n73000                0.0                      0.0                      1.0   \n73001                0.0                      0.0                      0.0   \n73002                0.0                      1.0                      0.0   \n73003                0.0                      0.0                      0.0   \n73004                0.0                      0.0                      0.0   \n...                  ...                      ...                      ...   \n73595                1.0                      0.0                      0.0   \n73596                0.0                      0.0                      0.0   \n73597                0.0                      0.0                      0.0   \n73598                0.0                      0.0                      0.0   \n73599                0.0                      0.0                      0.0   \n\n       count_city_x0_Шанхай  ...  check_terminal_percentile_75  \\\n73000                   8.0  ...                           1.0   \n73001                   2.0  ...                           1.0   \n73002                   1.0  ...                           1.0   \n73003                   2.0  ...                           1.0   \n73004                   2.0  ...                           1.0   \n...                     ...  ...                           ...   \n73595                   0.0  ...                           1.0   \n73596                   0.0  ...                           1.0   \n73597                   0.0  ...                           1.0   \n73598                   0.0  ...                           1.0   \n73599                   0.0  ...                           1.0   \n\n       sum_arrive_to_event  std_arrive_to_event  mean_arrive_to_event  \\\n73000           288289.699          5552.713857           8479.108794   \n73001           321956.788          4651.600112           8048.919700   \n73002           276018.668          5853.576197           8625.583375   \n73003           313818.236          6986.528909           8966.235314   \n73004           273223.205          5452.525381           7589.533472   \n...                    ...                  ...                   ...   \n73595           359542.541         14413.887349          22471.408812   \n73596           290740.521         13072.360560          18171.282562   \n73597           286821.842         15253.724422          17926.365125   \n73598           338680.810         19526.011827          24191.486428   \n73599           359666.287         18867.180715          25690.449071   \n\n       tst_percentile_25  tst_percentile_75  tst_day  tst_month  tst_hour  \\\n73000         4383.74850         9048.37725       20          8        17   \n73001         5285.09800         8966.32900       20          8        17   \n73002         3827.43200        13393.78550       20          8        17   \n73003         5103.85200         8683.37350       20          8        17   \n73004         4885.30400         8791.82500       20          8        17   \n...                  ...                ...      ...        ...       ...   \n73595        13233.08725        26672.98150       21          8         3   \n73596        13152.69900        15995.98775       21          8         3   \n73597         8029.35725        16931.01775       21          8         3   \n73598        13035.54325        32784.06850       21          8         3   \n73599        12983.91775        37065.56675       21          8         3   \n\n       tst_minute  \n73000        39.0  \n73001        40.0  \n73002        41.0  \n73003        42.0  \n73004        43.0  \n...           ...  \n73595        34.0  \n73596        35.0  \n73597        36.0  \n73598        37.0  \n73599        38.0  \n\n[600 rows x 44 columns]",
      "text/html": "<div>\n<style scoped>\n    .dataframe tbody tr th:only-of-type {\n        vertical-align: middle;\n    }\n\n    .dataframe tbody tr th {\n        vertical-align: top;\n    }\n\n    .dataframe thead th {\n        text-align: right;\n    }\n</style>\n<table border=\"1\" class=\"dataframe\">\n  <thead>\n    <tr style=\"text-align: right;\">\n      <th></th>\n      <th>len</th>\n      <th>day</th>\n      <th>hour</th>\n      <th>minute</th>\n      <th>count_city_x0_Сочи</th>\n      <th>count_city_x0_Стамбул</th>\n      <th>count_city_x0_Уфа</th>\n      <th>count_city_x0_Хабаровск</th>\n      <th>count_city_x0_Челябинск</th>\n      <th>count_city_x0_Шанхай</th>\n      <th>...</th>\n      <th>check_terminal_percentile_75</th>\n      <th>sum_arrive_to_event</th>\n      <th>std_arrive_to_event</th>\n      <th>mean_arrive_to_event</th>\n      <th>tst_percentile_25</th>\n      <th>tst_percentile_75</th>\n      <th>tst_day</th>\n      <th>tst_month</th>\n      <th>tst_hour</th>\n      <th>tst_minute</th>\n    </tr>\n  </thead>\n  <tbody>\n    <tr>\n      <th>73000</th>\n      <td>34</td>\n      <td>20</td>\n      <td>17</td>\n      <td>39.0</td>\n      <td>2.0</td>\n      <td>0.0</td>\n      <td>0.0</td>\n      <td>0.0</td>\n      <td>1.0</td>\n      <td>8.0</td>\n      <td>...</td>\n      <td>1.0</td>\n      <td>288289.699</td>\n      <td>5552.713857</td>\n      <td>8479.108794</td>\n      <td>4383.74850</td>\n      <td>9048.37725</td>\n      <td>20</td>\n      <td>8</td>\n      <td>17</td>\n      <td>39.0</td>\n    </tr>\n    <tr>\n      <th>73001</th>\n      <td>40</td>\n      <td>20</td>\n      <td>17</td>\n      <td>40.0</td>\n      <td>4.0</td>\n      <td>0.0</td>\n      <td>0.0</td>\n      <td>0.0</td>\n      <td>0.0</td>\n      <td>2.0</td>\n      <td>...</td>\n      <td>1.0</td>\n      <td>321956.788</td>\n      <td>4651.600112</td>\n      <td>8048.919700</td>\n      <td>5285.09800</td>\n      <td>8966.32900</td>\n      <td>20</td>\n      <td>8</td>\n      <td>17</td>\n      <td>40.0</td>\n    </tr>\n    <tr>\n      <th>73002</th>\n      <td>32</td>\n      <td>20</td>\n      <td>17</td>\n      <td>41.0</td>\n      <td>0.0</td>\n      <td>0.0</td>\n      <td>0.0</td>\n      <td>1.0</td>\n      <td>0.0</td>\n      <td>1.0</td>\n      <td>...</td>\n      <td>1.0</td>\n      <td>276018.668</td>\n      <td>5853.576197</td>\n      <td>8625.583375</td>\n      <td>3827.43200</td>\n      <td>13393.78550</td>\n      <td>20</td>\n      <td>8</td>\n      <td>17</td>\n      <td>41.0</td>\n    </tr>\n    <tr>\n      <th>73003</th>\n      <td>35</td>\n      <td>20</td>\n      <td>17</td>\n      <td>42.0</td>\n      <td>2.0</td>\n      <td>0.0</td>\n      <td>0.0</td>\n      <td>0.0</td>\n      <td>0.0</td>\n      <td>2.0</td>\n      <td>...</td>\n      <td>1.0</td>\n      <td>313818.236</td>\n      <td>6986.528909</td>\n      <td>8966.235314</td>\n      <td>5103.85200</td>\n      <td>8683.37350</td>\n      <td>20</td>\n      <td>8</td>\n      <td>17</td>\n      <td>42.0</td>\n    </tr>\n    <tr>\n      <th>73004</th>\n      <td>36</td>\n      <td>20</td>\n      <td>17</td>\n      <td>43.0</td>\n      <td>2.0</td>\n      <td>0.0</td>\n      <td>0.0</td>\n      <td>0.0</td>\n      <td>0.0</td>\n      <td>2.0</td>\n      <td>...</td>\n      <td>1.0</td>\n      <td>273223.205</td>\n      <td>5452.525381</td>\n      <td>7589.533472</td>\n      <td>4885.30400</td>\n      <td>8791.82500</td>\n      <td>20</td>\n      <td>8</td>\n      <td>17</td>\n      <td>43.0</td>\n    </tr>\n    <tr>\n      <th>...</th>\n      <td>...</td>\n      <td>...</td>\n      <td>...</td>\n      <td>...</td>\n      <td>...</td>\n      <td>...</td>\n      <td>...</td>\n      <td>...</td>\n      <td>...</td>\n      <td>...</td>\n      <td>...</td>\n      <td>...</td>\n      <td>...</td>\n      <td>...</td>\n      <td>...</td>\n      <td>...</td>\n      <td>...</td>\n      <td>...</td>\n      <td>...</td>\n      <td>...</td>\n      <td>...</td>\n    </tr>\n    <tr>\n      <th>73595</th>\n      <td>16</td>\n      <td>21</td>\n      <td>3</td>\n      <td>34.0</td>\n      <td>2.0</td>\n      <td>0.0</td>\n      <td>1.0</td>\n      <td>0.0</td>\n      <td>0.0</td>\n      <td>0.0</td>\n      <td>...</td>\n      <td>1.0</td>\n      <td>359542.541</td>\n      <td>14413.887349</td>\n      <td>22471.408812</td>\n      <td>13233.08725</td>\n      <td>26672.98150</td>\n      <td>21</td>\n      <td>8</td>\n      <td>3</td>\n      <td>34.0</td>\n    </tr>\n    <tr>\n      <th>73596</th>\n      <td>16</td>\n      <td>21</td>\n      <td>3</td>\n      <td>35.0</td>\n      <td>1.0</td>\n      <td>0.0</td>\n      <td>0.0</td>\n      <td>0.0</td>\n      <td>0.0</td>\n      <td>0.0</td>\n      <td>...</td>\n      <td>1.0</td>\n      <td>290740.521</td>\n      <td>13072.360560</td>\n      <td>18171.282562</td>\n      <td>13152.69900</td>\n      <td>15995.98775</td>\n      <td>21</td>\n      <td>8</td>\n      <td>3</td>\n      <td>35.0</td>\n    </tr>\n    <tr>\n      <th>73597</th>\n      <td>16</td>\n      <td>21</td>\n      <td>3</td>\n      <td>36.0</td>\n      <td>3.0</td>\n      <td>0.0</td>\n      <td>0.0</td>\n      <td>0.0</td>\n      <td>0.0</td>\n      <td>0.0</td>\n      <td>...</td>\n      <td>1.0</td>\n      <td>286821.842</td>\n      <td>15253.724422</td>\n      <td>17926.365125</td>\n      <td>8029.35725</td>\n      <td>16931.01775</td>\n      <td>21</td>\n      <td>8</td>\n      <td>3</td>\n      <td>36.0</td>\n    </tr>\n    <tr>\n      <th>73598</th>\n      <td>14</td>\n      <td>21</td>\n      <td>3</td>\n      <td>37.0</td>\n      <td>2.0</td>\n      <td>0.0</td>\n      <td>0.0</td>\n      <td>0.0</td>\n      <td>0.0</td>\n      <td>0.0</td>\n      <td>...</td>\n      <td>1.0</td>\n      <td>338680.810</td>\n      <td>19526.011827</td>\n      <td>24191.486428</td>\n      <td>13035.54325</td>\n      <td>32784.06850</td>\n      <td>21</td>\n      <td>8</td>\n      <td>3</td>\n      <td>37.0</td>\n    </tr>\n    <tr>\n      <th>73599</th>\n      <td>14</td>\n      <td>21</td>\n      <td>3</td>\n      <td>38.0</td>\n      <td>0.0</td>\n      <td>1.0</td>\n      <td>0.0</td>\n      <td>0.0</td>\n      <td>0.0</td>\n      <td>0.0</td>\n      <td>...</td>\n      <td>1.0</td>\n      <td>359666.287</td>\n      <td>18867.180715</td>\n      <td>25690.449071</td>\n      <td>12983.91775</td>\n      <td>37065.56675</td>\n      <td>21</td>\n      <td>8</td>\n      <td>3</td>\n      <td>38.0</td>\n    </tr>\n  </tbody>\n</table>\n<p>600 rows × 44 columns</p>\n</div>"
     },
     "execution_count": 132,
     "metadata": {},
     "output_type": "execute_result"
    }
   ],
   "source": [
    "sample"
   ],
   "metadata": {
    "collapsed": false,
    "pycharm": {
     "name": "#%%\n"
    }
   }
  },
  {
   "cell_type": "code",
   "execution_count": null,
   "outputs": [],
   "source": [],
   "metadata": {
    "collapsed": false,
    "pycharm": {
     "name": "#%%\n"
    }
   }
  },
  {
   "cell_type": "markdown",
   "source": [
    "## Немного визуализации"
   ],
   "metadata": {
    "collapsed": false,
    "pycharm": {
     "name": "#%% md\n"
    }
   }
  },
  {
   "cell_type": "code",
   "execution_count": 133,
   "outputs": [],
   "source": [
    "import matplotlib.pyplot as plt"
   ],
   "metadata": {
    "collapsed": false,
    "pycharm": {
     "name": "#%%\n"
    }
   }
  },
  {
   "cell_type": "code",
   "execution_count": 134,
   "outputs": [
    {
     "data": {
      "text/plain": "<matplotlib.lines.Line2D at 0x182f114ac10>"
     },
     "execution_count": 134,
     "metadata": {},
     "output_type": "execute_result"
    },
    {
     "data": {
      "text/plain": "<Figure size 432x288 with 1 Axes>",
      "image/png": "[encoded data removed]"
     },
     "metadata": {
      "needs_background": "light"
     },
     "output_type": "display_data"
    }
   ],
   "source": [
    "num = 6\n",
    "sample, y = x_train[num], y_train[num]\n",
    "\n",
    "plt.plot(sample.len)\n",
    "plt.axhline(y)"
   ],
   "metadata": {
    "collapsed": false,
    "pycharm": {
     "name": "#%%\n"
    }
   }
  },
  {
   "cell_type": "code",
   "execution_count": 142,
   "outputs": [
    {
     "data": {
      "text/plain": "<matplotlib.lines.Line2D at 0x183206c2cd0>"
     },
     "execution_count": 142,
     "metadata": {},
     "output_type": "execute_result"
    },
    {
     "data": {
      "text/plain": "<Figure size 432x288 with 1 Axes>",
      "image/png": "[encoded data removed]"
     },
     "metadata": {
      "needs_background": "light"
     },
     "output_type": "display_data"
    }
   ],
   "source": [
    "num = 2\n",
    "sample, y = x_train[num], y_train[num]\n",
    "\n",
    "plt.plot(sample.config_sum / 200)\n",
    "plt.axhline(y)"
   ],
   "metadata": {
    "collapsed": false,
    "pycharm": {
     "name": "#%%\n"
    }
   }
  },
  {
   "cell_type": "code",
   "execution_count": null,
   "outputs": [],
   "source": [],
   "metadata": {
    "collapsed": false,
    "pycharm": {
     "name": "#%%\n"
    }
   }
  },
  {
   "cell_type": "code",
   "execution_count": null,
   "outputs": [],
   "source": [],
   "metadata": {
    "collapsed": false,
    "pycharm": {
     "name": "#%%\n"
    }
   }
  },
  {
   "cell_type": "code",
   "execution_count": 15,
   "outputs": [],
   "source": [
    "from sklearn.metrics import mean_absolute_percentage_error, mean_absolute_error\n"
   ],
   "metadata": {
    "collapsed": false,
    "pycharm": {
     "name": "#%%\n"
    }
   }
  },
  {
   "cell_type": "code",
   "execution_count": 16,
   "outputs": [
    {
     "data": {
      "text/plain": "0.2625926522868465"
     },
     "execution_count": 16,
     "metadata": {},
     "output_type": "execute_result"
    }
   ],
   "source": [
    "mean_absolute_percentage_error(y_valid, predicts)"
   ],
   "metadata": {
    "collapsed": false,
    "pycharm": {
     "name": "#%%\n"
    }
   }
  },
  {
   "cell_type": "code",
   "execution_count": null,
   "outputs": [],
   "source": [],
   "metadata": {
    "collapsed": false,
    "pycharm": {
     "name": "#%%\n"
    }
   }
  },
  {
   "cell_type": "code",
   "execution_count": null,
   "outputs": [],
   "source": [],
   "metadata": {
    "collapsed": false,
    "pycharm": {
     "name": "#%%\n"
    }
   }
  }
 ],
 "metadata": {
  "kernelspec": {
   "display_name": "Python 3",
   "language": "python",
   "name": "python3"
  },
  "language_info": {
   "codemirror_mode": {
    "name": "ipython",
    "version": 2
   },
   "file_extension": ".py",
   "mimetype": "text/x-python",
   "name": "python",
   "nbconvert_exporter": "python",
   "pygments_lexer": "ipython2",
   "version": "2.7.6"
  }
 },
 "nbformat": 4,
 "nbformat_minor": 0
}